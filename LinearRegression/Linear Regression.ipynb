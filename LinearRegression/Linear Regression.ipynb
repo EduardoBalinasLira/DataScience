{
 "cells": [
  {
   "cell_type": "markdown",
   "metadata": {},
   "source": [
    "# Modelo de Regresion Lineal\n",
    "### Datos ficticios\n",
    "\n",
    "* y = a + b * x\n",
    "\n",
    "* x : Sera una normal con 100 valores N(1.5,2.5)\n",
    "* Ye = 2 + 0.3 * x\n",
    "* e: estara adistribuida segun una N(0,0.8)"
   ]
  },
  {
   "cell_type": "code",
   "execution_count": 1,
   "metadata": {},
   "outputs": [],
   "source": [
    "import pandas as pd\n",
    "import numpy as np\n",
    "import matplotlib.pyplot as plt"
   ]
  },
  {
   "cell_type": "code",
   "execution_count": 2,
   "metadata": {},
   "outputs": [],
   "source": [
    "x = 1.5 + 2.5 * np.random.randn(100)\n"
   ]
  },
  {
   "cell_type": "code",
   "execution_count": 3,
   "metadata": {},
   "outputs": [],
   "source": [
    "res = 0 + 0.8 * np.random.randn(100)"
   ]
  },
  {
   "cell_type": "code",
   "execution_count": 4,
   "metadata": {},
   "outputs": [],
   "source": [
    "y_pred = 5 + 1.9 * x"
   ]
  },
  {
   "cell_type": "code",
   "execution_count": 5,
   "metadata": {},
   "outputs": [],
   "source": [
    "y_act = 5 + 1.9 * x + res"
   ]
  },
  {
   "cell_type": "code",
   "execution_count": 6,
   "metadata": {},
   "outputs": [],
   "source": [
    "x_list = x.tolist()"
   ]
  },
  {
   "cell_type": "code",
   "execution_count": 7,
   "metadata": {},
   "outputs": [],
   "source": [
    "y_pred_list = y_pred.tolist()"
   ]
  },
  {
   "cell_type": "code",
   "execution_count": 8,
   "metadata": {},
   "outputs": [],
   "source": [
    "y_act_list = y_act.tolist()"
   ]
  },
  {
   "cell_type": "code",
   "execution_count": 9,
   "metadata": {},
   "outputs": [],
   "source": [
    "data = pd.DataFrame({\n",
    "    'X': x_list,\n",
    "    'Y': y_act_list,\n",
    "    'Y_pred': y_pred_list\n",
    "})"
   ]
  },
  {
   "cell_type": "code",
   "execution_count": 10,
   "metadata": {},
   "outputs": [
    {
     "data": {
      "text/html": [
       "<div>\n",
       "<style scoped>\n",
       "    .dataframe tbody tr th:only-of-type {\n",
       "        vertical-align: middle;\n",
       "    }\n",
       "\n",
       "    .dataframe tbody tr th {\n",
       "        vertical-align: top;\n",
       "    }\n",
       "\n",
       "    .dataframe thead th {\n",
       "        text-align: right;\n",
       "    }\n",
       "</style>\n",
       "<table border=\"1\" class=\"dataframe\">\n",
       "  <thead>\n",
       "    <tr style=\"text-align: right;\">\n",
       "      <th></th>\n",
       "      <th>X</th>\n",
       "      <th>Y</th>\n",
       "      <th>Y_pred</th>\n",
       "    </tr>\n",
       "  </thead>\n",
       "  <tbody>\n",
       "    <tr>\n",
       "      <th>0</th>\n",
       "      <td>1.350043</td>\n",
       "      <td>8.624028</td>\n",
       "      <td>7.565082</td>\n",
       "    </tr>\n",
       "    <tr>\n",
       "      <th>1</th>\n",
       "      <td>1.083467</td>\n",
       "      <td>6.818152</td>\n",
       "      <td>7.058587</td>\n",
       "    </tr>\n",
       "    <tr>\n",
       "      <th>2</th>\n",
       "      <td>0.346215</td>\n",
       "      <td>6.700893</td>\n",
       "      <td>5.657808</td>\n",
       "    </tr>\n",
       "    <tr>\n",
       "      <th>3</th>\n",
       "      <td>-2.077308</td>\n",
       "      <td>0.181479</td>\n",
       "      <td>1.053115</td>\n",
       "    </tr>\n",
       "    <tr>\n",
       "      <th>4</th>\n",
       "      <td>1.765149</td>\n",
       "      <td>7.745177</td>\n",
       "      <td>8.353784</td>\n",
       "    </tr>\n",
       "    <tr>\n",
       "      <th>...</th>\n",
       "      <td>...</td>\n",
       "      <td>...</td>\n",
       "      <td>...</td>\n",
       "    </tr>\n",
       "    <tr>\n",
       "      <th>95</th>\n",
       "      <td>1.108884</td>\n",
       "      <td>8.059495</td>\n",
       "      <td>7.106880</td>\n",
       "    </tr>\n",
       "    <tr>\n",
       "      <th>96</th>\n",
       "      <td>1.200126</td>\n",
       "      <td>7.610506</td>\n",
       "      <td>7.280239</td>\n",
       "    </tr>\n",
       "    <tr>\n",
       "      <th>97</th>\n",
       "      <td>-3.454371</td>\n",
       "      <td>-2.547231</td>\n",
       "      <td>-1.563304</td>\n",
       "    </tr>\n",
       "    <tr>\n",
       "      <th>98</th>\n",
       "      <td>2.580659</td>\n",
       "      <td>10.669320</td>\n",
       "      <td>9.903252</td>\n",
       "    </tr>\n",
       "    <tr>\n",
       "      <th>99</th>\n",
       "      <td>1.349649</td>\n",
       "      <td>7.292616</td>\n",
       "      <td>7.564332</td>\n",
       "    </tr>\n",
       "  </tbody>\n",
       "</table>\n",
       "<p>100 rows × 3 columns</p>\n",
       "</div>"
      ],
      "text/plain": [
       "           X          Y    Y_pred\n",
       "0   1.350043   8.624028  7.565082\n",
       "1   1.083467   6.818152  7.058587\n",
       "2   0.346215   6.700893  5.657808\n",
       "3  -2.077308   0.181479  1.053115\n",
       "4   1.765149   7.745177  8.353784\n",
       "..       ...        ...       ...\n",
       "95  1.108884   8.059495  7.106880\n",
       "96  1.200126   7.610506  7.280239\n",
       "97 -3.454371  -2.547231 -1.563304\n",
       "98  2.580659  10.669320  9.903252\n",
       "99  1.349649   7.292616  7.564332\n",
       "\n",
       "[100 rows x 3 columns]"
      ]
     },
     "execution_count": 10,
     "metadata": {},
     "output_type": "execute_result"
    }
   ],
   "source": [
    "data"
   ]
  },
  {
   "cell_type": "code",
   "execution_count": 11,
   "metadata": {},
   "outputs": [],
   "source": [
    "%matplotlib inline"
   ]
  },
  {
   "cell_type": "code",
   "execution_count": 12,
   "metadata": {},
   "outputs": [],
   "source": [
    "y_mean = [np.mean(y_act) for i in range(1, len(x_list) + 1)]"
   ]
  },
  {
   "cell_type": "code",
   "execution_count": 13,
   "metadata": {},
   "outputs": [
    {
     "data": {
      "text/plain": [
       "Text(0.5, 1.0, 'Valor actual vs prediccion')"
      ]
     },
     "execution_count": 13,
     "metadata": {},
     "output_type": "execute_result"
    },
    {
     "data": {
      "image/png": "[encoded data removed]",
      "text/plain": [
       "<Figure size 432x288 with 1 Axes>"
      ]
     },
     "metadata": {
      "needs_background": "light"
     },
     "output_type": "display_data"
    }
   ],
   "source": [
    "plt.plot(x,y_pred)\n",
    "plt.plot(x,y_act, \"ro\")\n",
    "plt.plot(x,y_mean,\"g\")\n",
    "plt.title(\"Valor actual vs prediccion\")"
   ]
  },
  {
   "cell_type": "code",
   "execution_count": 14,
   "metadata": {},
   "outputs": [],
   "source": [
    "data[\"SSR\"] = (data[\"Y_pred\"] - np.mean(y_act)) ** 2\n",
    "data[\"SSD\"] = (data[\"Y_pred\"] - data[\"Y\"]) ** 2\n",
    "data[\"SST\"] = (data[\"Y\"] - np.mean(y_act)) ** 2"
   ]
  },
  {
   "cell_type": "code",
   "execution_count": 15,
   "metadata": {},
   "outputs": [
    {
     "data": {
      "text/html": [
       "<div>\n",
       "<style scoped>\n",
       "    .dataframe tbody tr th:only-of-type {\n",
       "        vertical-align: middle;\n",
       "    }\n",
       "\n",
       "    .dataframe tbody tr th {\n",
       "        vertical-align: top;\n",
       "    }\n",
       "\n",
       "    .dataframe thead th {\n",
       "        text-align: right;\n",
       "    }\n",
       "</style>\n",
       "<table border=\"1\" class=\"dataframe\">\n",
       "  <thead>\n",
       "    <tr style=\"text-align: right;\">\n",
       "      <th></th>\n",
       "      <th>X</th>\n",
       "      <th>Y</th>\n",
       "      <th>Y_pred</th>\n",
       "      <th>SSR</th>\n",
       "      <th>SSD</th>\n",
       "      <th>SST</th>\n",
       "    </tr>\n",
       "  </thead>\n",
       "  <tbody>\n",
       "    <tr>\n",
       "      <th>0</th>\n",
       "      <td>1.350043</td>\n",
       "      <td>8.624028</td>\n",
       "      <td>7.565082</td>\n",
       "      <td>0.000956</td>\n",
       "      <td>1.121367</td>\n",
       "      <td>1.056825</td>\n",
       "    </tr>\n",
       "    <tr>\n",
       "      <th>1</th>\n",
       "      <td>1.083467</td>\n",
       "      <td>6.818152</td>\n",
       "      <td>7.058587</td>\n",
       "      <td>0.288822</td>\n",
       "      <td>0.057809</td>\n",
       "      <td>0.605060</td>\n",
       "    </tr>\n",
       "    <tr>\n",
       "      <th>2</th>\n",
       "      <td>0.346215</td>\n",
       "      <td>6.700893</td>\n",
       "      <td>5.657808</td>\n",
       "      <td>3.756621</td>\n",
       "      <td>1.088026</td>\n",
       "      <td>0.801232</td>\n",
       "    </tr>\n",
       "    <tr>\n",
       "      <th>3</th>\n",
       "      <td>-2.077308</td>\n",
       "      <td>0.181479</td>\n",
       "      <td>1.053115</td>\n",
       "      <td>42.809453</td>\n",
       "      <td>0.759749</td>\n",
       "      <td>54.975241</td>\n",
       "    </tr>\n",
       "    <tr>\n",
       "      <th>4</th>\n",
       "      <td>1.765149</td>\n",
       "      <td>7.745177</td>\n",
       "      <td>8.353784</td>\n",
       "      <td>0.574224</td>\n",
       "      <td>0.370402</td>\n",
       "      <td>0.022251</td>\n",
       "    </tr>\n",
       "  </tbody>\n",
       "</table>\n",
       "</div>"
      ],
      "text/plain": [
       "          X         Y    Y_pred        SSR       SSD        SST\n",
       "0  1.350043  8.624028  7.565082   0.000956  1.121367   1.056825\n",
       "1  1.083467  6.818152  7.058587   0.288822  0.057809   0.605060\n",
       "2  0.346215  6.700893  5.657808   3.756621  1.088026   0.801232\n",
       "3 -2.077308  0.181479  1.053115  42.809453  0.759749  54.975241\n",
       "4  1.765149  7.745177  8.353784   0.574224  0.370402   0.022251"
      ]
     },
     "execution_count": 15,
     "metadata": {},
     "output_type": "execute_result"
    }
   ],
   "source": [
    "data.head()"
   ]
  },
  {
   "cell_type": "code",
   "execution_count": 16,
   "metadata": {},
   "outputs": [],
   "source": [
    "SSR = sum(data[\"SSR\"])\n",
    "SSD = sum(data[\"SSD\"])\n",
    "SST = sum(data[\"SST\"])"
   ]
  },
  {
   "cell_type": "code",
   "execution_count": 17,
   "metadata": {},
   "outputs": [
    {
     "data": {
      "text/plain": [
       "2048.2866242862374"
      ]
     },
     "execution_count": 17,
     "metadata": {},
     "output_type": "execute_result"
    }
   ],
   "source": [
    "SSR"
   ]
  },
  {
   "cell_type": "code",
   "execution_count": 18,
   "metadata": {},
   "outputs": [
    {
     "data": {
      "text/plain": [
       "50.931934159134485"
      ]
     },
     "execution_count": 18,
     "metadata": {},
     "output_type": "execute_result"
    }
   ],
   "source": [
    "SSD"
   ]
  },
  {
   "cell_type": "code",
   "execution_count": 19,
   "metadata": {},
   "outputs": [
    {
     "data": {
      "text/plain": [
       "2145.3105928572995"
      ]
     },
     "execution_count": 19,
     "metadata": {},
     "output_type": "execute_result"
    }
   ],
   "source": [
    "SST"
   ]
  },
  {
   "cell_type": "code",
   "execution_count": 20,
   "metadata": {},
   "outputs": [],
   "source": [
    "R2 = SSR / SST"
   ]
  },
  {
   "cell_type": "code",
   "execution_count": 21,
   "metadata": {},
   "outputs": [
    {
     "data": {
      "text/plain": [
       "0.9547739292883285"
      ]
     },
     "execution_count": 21,
     "metadata": {},
     "output_type": "execute_result"
    }
   ],
   "source": [
    "R2"
   ]
  },
  {
   "cell_type": "code",
   "execution_count": 22,
   "metadata": {},
   "outputs": [
    {
     "data": {
      "text/plain": [
       "(array([ 1.,  7., 12., 15., 14., 16., 15., 11.,  7.,  2.]),\n",
       " array([-1.6873187 , -1.35279044, -1.01826217, -0.6837339 , -0.34920564,\n",
       "        -0.01467737,  0.31985089,  0.65437916,  0.98890743,  1.32343569,\n",
       "         1.65796396]),\n",
       " <BarContainer object of 10 artists>)"
      ]
     },
     "execution_count": 22,
     "metadata": {},
     "output_type": "execute_result"
    },
    {
     "data": {
      "image/png": "[encoded data removed]",
      "text/plain": [
       "<Figure size 432x288 with 1 Axes>"
      ]
     },
     "metadata": {
      "needs_background": "light"
     },
     "output_type": "display_data"
    }
   ],
   "source": [
    "plt.hist(data[\"Y_pred\"] - data[\"Y\"])"
   ]
  },
  {
   "cell_type": "markdown",
   "metadata": {},
   "source": [
    "## Obteniendo la regresion de la recta\n",
    "* y = a + b * x\n",
    "* b = sum(xi - xm) * (yi - ym) / sum((xi - xm) ^ 2)\n",
    "* a = yn - b * xm"
   ]
  },
  {
   "cell_type": "code",
   "execution_count": 23,
   "metadata": {},
   "outputs": [],
   "source": [
    "x_mean = np.mean(data[\"X\"])\n",
    "y_mean = np.mean(data[\"Y\"])"
   ]
  },
  {
   "cell_type": "code",
   "execution_count": 24,
   "metadata": {},
   "outputs": [],
   "source": [
    "data[\"beta_n\"] = (data[\"X\"]-x_mean) * (data[\"Y\"]- y_mean)"
   ]
  },
  {
   "cell_type": "code",
   "execution_count": 25,
   "metadata": {},
   "outputs": [],
   "source": [
    "data[\"beta_d\"] = (data[\"X\"]-x_mean) ** 2"
   ]
  },
  {
   "cell_type": "code",
   "execution_count": 26,
   "metadata": {},
   "outputs": [],
   "source": [
    "beta = sum(data[\"beta_n\"]) / sum(data[\"beta_d\"])"
   ]
  },
  {
   "cell_type": "code",
   "execution_count": 27,
   "metadata": {},
   "outputs": [],
   "source": [
    "alpha = y_mean - beta * x_mean"
   ]
  },
  {
   "cell_type": "code",
   "execution_count": 28,
   "metadata": {},
   "outputs": [
    {
     "data": {
      "text/plain": [
       "(4.971014455509506, 1.921377595070592)"
      ]
     },
     "execution_count": 28,
     "metadata": {},
     "output_type": "execute_result"
    }
   ],
   "source": [
    "alpha, beta"
   ]
  },
  {
   "cell_type": "code",
   "execution_count": 29,
   "metadata": {},
   "outputs": [],
   "source": [
    "data[\"y_model\"] = alpha + beta * data[\"X\"]"
   ]
  },
  {
   "cell_type": "code",
   "execution_count": 30,
   "metadata": {},
   "outputs": [
    {
     "data": {
      "text/html": [
       "<div>\n",
       "<style scoped>\n",
       "    .dataframe tbody tr th:only-of-type {\n",
       "        vertical-align: middle;\n",
       "    }\n",
       "\n",
       "    .dataframe tbody tr th {\n",
       "        vertical-align: top;\n",
       "    }\n",
       "\n",
       "    .dataframe thead th {\n",
       "        text-align: right;\n",
       "    }\n",
       "</style>\n",
       "<table border=\"1\" class=\"dataframe\">\n",
       "  <thead>\n",
       "    <tr style=\"text-align: right;\">\n",
       "      <th></th>\n",
       "      <th>X</th>\n",
       "      <th>Y</th>\n",
       "      <th>Y_pred</th>\n",
       "      <th>SSR</th>\n",
       "      <th>SSD</th>\n",
       "      <th>SST</th>\n",
       "      <th>beta_n</th>\n",
       "      <th>beta_d</th>\n",
       "      <th>y_model</th>\n",
       "    </tr>\n",
       "  </thead>\n",
       "  <tbody>\n",
       "    <tr>\n",
       "      <th>0</th>\n",
       "      <td>1.350043</td>\n",
       "      <td>8.624028</td>\n",
       "      <td>7.565082</td>\n",
       "      <td>0.000956</td>\n",
       "      <td>1.121367</td>\n",
       "      <td>1.056825</td>\n",
       "      <td>-0.016614</td>\n",
       "      <td>0.000261</td>\n",
       "      <td>7.564957</td>\n",
       "    </tr>\n",
       "    <tr>\n",
       "      <th>1</th>\n",
       "      <td>1.083467</td>\n",
       "      <td>6.818152</td>\n",
       "      <td>7.058587</td>\n",
       "      <td>0.288822</td>\n",
       "      <td>0.057809</td>\n",
       "      <td>0.605060</td>\n",
       "      <td>0.219929</td>\n",
       "      <td>0.079940</td>\n",
       "      <td>7.052763</td>\n",
       "    </tr>\n",
       "    <tr>\n",
       "      <th>2</th>\n",
       "      <td>0.346215</td>\n",
       "      <td>6.700893</td>\n",
       "      <td>5.657808</td>\n",
       "      <td>3.756621</td>\n",
       "      <td>1.088026</td>\n",
       "      <td>0.801232</td>\n",
       "      <td>0.913008</td>\n",
       "      <td>1.040378</td>\n",
       "      <td>5.636223</td>\n",
       "    </tr>\n",
       "    <tr>\n",
       "      <th>3</th>\n",
       "      <td>-2.077308</td>\n",
       "      <td>0.181479</td>\n",
       "      <td>1.053115</td>\n",
       "      <td>42.809453</td>\n",
       "      <td>0.759749</td>\n",
       "      <td>54.975241</td>\n",
       "      <td>25.532019</td>\n",
       "      <td>11.857774</td>\n",
       "      <td>0.979721</td>\n",
       "    </tr>\n",
       "    <tr>\n",
       "      <th>4</th>\n",
       "      <td>1.765149</td>\n",
       "      <td>7.745177</td>\n",
       "      <td>8.353784</td>\n",
       "      <td>0.574224</td>\n",
       "      <td>0.370402</td>\n",
       "      <td>0.022251</td>\n",
       "      <td>0.059510</td>\n",
       "      <td>0.159157</td>\n",
       "      <td>8.362533</td>\n",
       "    </tr>\n",
       "  </tbody>\n",
       "</table>\n",
       "</div>"
      ],
      "text/plain": [
       "          X         Y    Y_pred        SSR       SSD        SST     beta_n  \\\n",
       "0  1.350043  8.624028  7.565082   0.000956  1.121367   1.056825  -0.016614   \n",
       "1  1.083467  6.818152  7.058587   0.288822  0.057809   0.605060   0.219929   \n",
       "2  0.346215  6.700893  5.657808   3.756621  1.088026   0.801232   0.913008   \n",
       "3 -2.077308  0.181479  1.053115  42.809453  0.759749  54.975241  25.532019   \n",
       "4  1.765149  7.745177  8.353784   0.574224  0.370402   0.022251   0.059510   \n",
       "\n",
       "      beta_d   y_model  \n",
       "0   0.000261  7.564957  \n",
       "1   0.079940  7.052763  \n",
       "2   1.040378  5.636223  \n",
       "3  11.857774  0.979721  \n",
       "4   0.159157  8.362533  "
      ]
     },
     "execution_count": 30,
     "metadata": {},
     "output_type": "execute_result"
    }
   ],
   "source": [
    "data.head()"
   ]
  },
  {
   "cell_type": "code",
   "execution_count": 31,
   "metadata": {},
   "outputs": [
    {
     "data": {
      "text/plain": [
       "(2094.637962790264, 50.67263006703448, 2145.310592857299)"
      ]
     },
     "execution_count": 31,
     "metadata": {},
     "output_type": "execute_result"
    }
   ],
   "source": [
    "SSR = sum((data[\"y_model\"] - y_mean) ** 2)\n",
    "SSD = sum((data[\"y_model\"] - data[\"Y\"]) ** 2)\n",
    "SST = sum((data[\"Y\"] - y_mean) ** 2)\n",
    "\n",
    "SSR,SSD,SST"
   ]
  },
  {
   "cell_type": "code",
   "execution_count": 32,
   "metadata": {},
   "outputs": [],
   "source": [
    "R2 = SSR/SST"
   ]
  },
  {
   "cell_type": "code",
   "execution_count": 33,
   "metadata": {},
   "outputs": [
    {
     "data": {
      "text/plain": [
       "0.976379816407122"
      ]
     },
     "execution_count": 33,
     "metadata": {},
     "output_type": "execute_result"
    }
   ],
   "source": [
    "R2"
   ]
  },
  {
   "cell_type": "code",
   "execution_count": 34,
   "metadata": {},
   "outputs": [
    {
     "data": {
      "text/plain": [
       "(array([ 1.,  7., 12., 15., 14., 16., 15., 11.,  7.,  2.]),\n",
       " array([-1.6873187 , -1.35279044, -1.01826217, -0.6837339 , -0.34920564,\n",
       "        -0.01467737,  0.31985089,  0.65437916,  0.98890743,  1.32343569,\n",
       "         1.65796396]),\n",
       " <BarContainer object of 10 artists>)"
      ]
     },
     "execution_count": 34,
     "metadata": {},
     "output_type": "execute_result"
    },
    {
     "data": {
      "image/png": "[encoded data removed]",
      "text/plain": [
       "<Figure size 432x288 with 1 Axes>"
      ]
     },
     "metadata": {
      "needs_background": "light"
     },
     "output_type": "display_data"
    }
   ],
   "source": [
    "plt.hist(data[\"Y_pred\"] - data[\"Y\"])"
   ]
  },
  {
   "cell_type": "code",
   "execution_count": 35,
   "metadata": {},
   "outputs": [
    {
     "data": {
      "text/plain": [
       "Text(0.5, 1.0, 'Valor actual vs prediccion')"
      ]
     },
     "execution_count": 35,
     "metadata": {},
     "output_type": "execute_result"
    },
    {
     "data": {
      "image/png": "[encoded data removed]",
      "text/plain": [
       "<Figure size 432x288 with 1 Axes>"
      ]
     },
     "metadata": {
      "needs_background": "light"
     },
     "output_type": "display_data"
    }
   ],
   "source": [
    "y_mean = [np.mean(y_act) for i in range(1, len(x_list) + 1)]\n",
    "plt.plot(data[\"X\"],data[\"Y_pred\"])\n",
    "plt.plot(data[\"X\"],data[\"Y\"], \"ro\")\n",
    "plt.plot(data[\"X\"],y_mean,\"g\")\n",
    "plt.plot(data[\"X\"], data[\"y_model\"])\n",
    "plt.title(\"Valor actual vs prediccion\")"
   ]
  },
  {
   "cell_type": "markdown",
   "metadata": {},
   "source": [
    "## Error estandar de los residuos (RSE)\n",
    "* La formula es: SSD/n-2"
   ]
  },
  {
   "cell_type": "code",
   "execution_count": 36,
   "metadata": {},
   "outputs": [
    {
     "data": {
      "text/plain": [
       "0.7190741642871408"
      ]
     },
     "execution_count": 36,
     "metadata": {},
     "output_type": "execute_result"
    }
   ],
   "source": [
    "RSE = np.sqrt(SSD/(len(data)-2))\n",
    "RSE"
   ]
  },
  {
   "cell_type": "code",
   "execution_count": 38,
   "metadata": {},
   "outputs": [
    {
     "data": {
      "text/plain": [
       "0.09466474363825292"
      ]
     },
     "execution_count": 38,
     "metadata": {},
     "output_type": "execute_result"
    }
   ],
   "source": [
    "## El error es del 9 porciento solamente\n",
    "RSE / np.mean(data[\"Y\"])"
   ]
  },
  {
   "cell_type": "code",
   "execution_count": null,
   "metadata": {},
   "outputs": [],
   "source": []
  }
 ],
 "metadata": {
  "kernelspec": {
   "display_name": "Python 3",
   "language": "python",
   "name": "python3"
  },
  "language_info": {
   "codemirror_mode": {
    "name": "ipython",
    "version": 3
   },
   "file_extension": ".py",
   "mimetype": "text/x-python",
   "name": "python",
   "nbconvert_exporter": "python",
   "pygments_lexer": "ipython3",
   "version": "3.8.5"
  }
 },
 "nbformat": 4,
 "nbformat_minor": 4
}
